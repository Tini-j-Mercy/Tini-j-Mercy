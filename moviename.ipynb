{
  "nbformat": 4,
  "nbformat_minor": 0,
  "metadata": {
    "colab": {
      "name": "moviename",
      "provenance": [],
      "authorship_tag": "ABX9TyPr0hSMvIQew+qHYI4CIlV+",
      "include_colab_link": true
    },
    "kernelspec": {
      "name": "python3",
      "display_name": "Python 3"
    },
    "language_info": {
      "name": "python"
    }
  },
  "cells": [
    {
      "cell_type": "markdown",
      "metadata": {
        "id": "view-in-github",
        "colab_type": "text"
      },
      "source": [
        "<a href=\"https://colab.research.google.com/github/Tini-j-Mercy/Tini-j-Mercy/blob/main/moviename.ipynb\" target=\"_parent\"><img src=\"https://colab.research.google.com/assets/colab-badge.svg\" alt=\"Open In Colab\"/></a>"
      ]
    },
    {
      "cell_type": "code",
      "metadata": {
        "colab": {
          "base_uri": "https://localhost:8080/"
        },
        "id": "txWv75ZrE2o4",
        "outputId": "c9421a67-dde7-4fdc-d3c3-7f31cd94c826"
      },
      "source": [
        "import sqlite3\n",
        "conn = sqlite3.connect('mydbb.db')\n",
        "c = conn.cursor()\n",
        "c.execute(\"select * from movie\")\n",
        "rows = c.fetchall()\n",
        "for row in rows:\n",
        "  print(rows)\n",
        "conn.close()"
      ],
      "execution_count": 3,
      "outputs": [
        {
          "output_type": "stream",
          "name": "stdout",
          "text": [
            "[('singham', 'suriya', 'anushka', 'may2010', 'hari')]\n"
          ]
        }
      ]
    }
  ]
}