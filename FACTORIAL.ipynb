{
  "nbformat": 4,
  "nbformat_minor": 0,
  "metadata": {
    "colab": {
      "name": "FACTORIAL",
      "provenance": [],
      "authorship_tag": "ABX9TyPiVFqfxm5glWPOf4aIqc7c",
      "include_colab_link": true
    },
    "kernelspec": {
      "name": "python3",
      "display_name": "Python 3"
    },
    "language_info": {
      "name": "python"
    }
  },
  "cells": [
    {
      "cell_type": "markdown",
      "metadata": {
        "id": "view-in-github",
        "colab_type": "text"
      },
      "source": [
        "<a href=\"https://colab.research.google.com/github/Tini-j-Mercy/Tini-j-Mercy/blob/main/FACTORIAL.ipynb\" target=\"_parent\"><img src=\"https://colab.research.google.com/assets/colab-badge.svg\" alt=\"Open In Colab\"/></a>"
      ]
    },
    {
      "cell_type": "markdown",
      "metadata": {
        "id": "KwonXlHJZe6C"
      },
      "source": [
        "FACTORIAL OF NUMBER"
      ]
    },
    {
      "cell_type": "code",
      "metadata": {
        "colab": {
          "base_uri": "https://localhost:8080/"
        },
        "id": "qbOl_lpCZoPG",
        "outputId": "659aa023-db2d-461c-967b-c2e38c4c310c"
      },
      "source": [
        "fact=1\n",
        "n=int(input('enter the number\\n'))\n",
        "for i in range(n,1,-1):\n",
        "  fact=fact*i\n",
        "print(fact) "
      ],
      "execution_count": 1,
      "outputs": [
        {
          "output_type": "stream",
          "name": "stdout",
          "text": [
            "enter the number\n",
            "8\n",
            "40320\n"
          ]
        }
      ]
    }
  ]
}