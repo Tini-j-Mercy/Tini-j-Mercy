{
  "nbformat": 4,
  "nbformat_minor": 0,
  "metadata": {
    "colab": {
      "name": "FACTORIAL",
      "provenance": [],
      "authorship_tag": "ABX9TyP+FnZ2jMM+pi66TlmQRrus",
      "include_colab_link": true
    },
    "kernelspec": {
      "name": "python3",
      "display_name": "Python 3"
    },
    "language_info": {
      "name": "python"
    }
  },
  "cells": [
    {
      "cell_type": "markdown",
      "metadata": {
        "id": "view-in-github",
        "colab_type": "text"
      },
      "source": [
        "<a href=\"https://colab.research.google.com/github/Tini-j-Mercy/Tini-j-Mercy/blob/main/FACTORIAL.ipynb\" target=\"_parent\"><img src=\"https://colab.research.google.com/assets/colab-badge.svg\" alt=\"Open In Colab\"/></a>"
      ]
    },
    {
      "cell_type": "markdown",
      "metadata": {
        "id": "KwonXlHJZe6C"
      },
      "source": [
        "FACTORIAL OF NUMBER"
      ]
    },
    {
      "cell_type": "code",
      "metadata": {
        "colab": {
          "base_uri": "https://localhost:8080/"
        },
        "id": "qbOl_lpCZoPG",
        "outputId": "837a6e57-acc5-415a-83d9-c2c1a993262b"
      },
      "source": [
        "fact=1\n",
        "num=0\n",
        "n=int(input('enter the number\\n'))\n",
        "if n>0:\n",
        "  for i in range(n,1,-1):\n",
        "    fact=fact*i\n",
        "  print(fact)\n",
        "else:\n",
        "  print(num)   "
      ],
      "execution_count": 9,
      "outputs": [
        {
          "output_type": "stream",
          "name": "stdout",
          "text": [
            "enter the number\n",
            "7\n",
            "5040\n"
          ]
        }
      ]
    }
  ]
}