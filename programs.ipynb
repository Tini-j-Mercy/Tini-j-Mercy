{
  "nbformat": 4,
  "nbformat_minor": 0,
  "metadata": {
    "colab": {
      "name": "programs",
      "provenance": [],
      "authorship_tag": "ABX9TyOBmEsuDsFeQzDW7CP5+AzZ",
      "include_colab_link": true
    },
    "kernelspec": {
      "name": "python3",
      "display_name": "Python 3"
    },
    "language_info": {
      "name": "python"
    }
  },
  "cells": [
    {
      "cell_type": "markdown",
      "metadata": {
        "id": "view-in-github",
        "colab_type": "text"
      },
      "source": [
        "<a href=\"https://colab.research.google.com/github/Tini-j-Mercy/Tini-j-Mercy/blob/main/programs.ipynb\" target=\"_parent\"><img src=\"https://colab.research.google.com/assets/colab-badge.svg\" alt=\"Open In Colab\"/></a>"
      ]
    },
    {
      "cell_type": "markdown",
      "metadata": {
        "id": "R9NndMK6pCcq"
      },
      "source": [
        "ADDITION OF TWO NUMBERS"
      ]
    },
    {
      "cell_type": "code",
      "metadata": {
        "colab": {
          "base_uri": "https://localhost:8080/"
        },
        "id": "onUodaNHllgk",
        "outputId": "29bccce7-d885-46aa-feb1-71caf3867cb7"
      },
      "source": [
        "num1=int(input('enter the number'))\n",
        "num2=int(input(\"enter the number\"))\n",
        "sum=num1+num2\n",
        "print(\"the sum of number is\",sum)"
      ],
      "execution_count": 1,
      "outputs": [
        {
          "output_type": "stream",
          "name": "stdout",
          "text": [
            "enter the number7\n",
            "enter the number8\n",
            "the sum of number is 15\n"
          ]
        }
      ]
    },
    {
      "cell_type": "code",
      "metadata": {
        "colab": {
          "base_uri": "https://localhost:8080/"
        },
        "id": "8H5ylK5CqGrH",
        "outputId": "33b88ac1-2592-4608-cd19-f3eeb5a209a0"
      },
      "source": [
        "num1=int(input('enter the number'))\n",
        "num2=int(input(\"enter the number\"))\n",
        "sum=num1+num2\n",
        "print(\"the sum of {0} and {1} number is {2}\".format(num1,num2,sum))"
      ],
      "execution_count": 2,
      "outputs": [
        {
          "output_type": "stream",
          "name": "stdout",
          "text": [
            "enter the number67799\n",
            "enter the number88989898\n",
            "the sum of 67799 and 88989898 number is 89057697\n"
          ]
        }
      ]
    },
    {
      "cell_type": "code",
      "metadata": {
        "id": "-GXoRWR2rQCt"
      },
      "source": [
        ""
      ],
      "execution_count": null,
      "outputs": []
    }
  ]
}