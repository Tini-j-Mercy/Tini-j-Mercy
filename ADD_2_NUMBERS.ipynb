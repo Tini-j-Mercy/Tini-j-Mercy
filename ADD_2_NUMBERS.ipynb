{
  "nbformat": 4,
  "nbformat_minor": 0,
  "metadata": {
    "colab": {
      "name": "ADD 2 NUMBERS",
      "provenance": [],
      "authorship_tag": "ABX9TyPgJQngqweLh3e0+RtWc7wm",
      "include_colab_link": true
    },
    "kernelspec": {
      "name": "python3",
      "display_name": "Python 3"
    },
    "language_info": {
      "name": "python"
    }
  },
  "cells": [
    {
      "cell_type": "markdown",
      "metadata": {
        "id": "view-in-github",
        "colab_type": "text"
      },
      "source": [
        "<a href=\"https://colab.research.google.com/github/Tini-j-Mercy/Tini-j-Mercy/blob/main/ADD_2_NUMBERS.ipynb\" target=\"_parent\"><img src=\"https://colab.research.google.com/assets/colab-badge.svg\" alt=\"Open In Colab\"/></a>"
      ]
    },
    {
      "cell_type": "markdown",
      "metadata": {
        "id": "R9NndMK6pCcq"
      },
      "source": [
        "ADDITION OF TWO NUMBERS"
      ]
    },
    {
      "cell_type": "code",
      "metadata": {
        "colab": {
          "base_uri": "https://localhost:8080/"
        },
        "id": "onUodaNHllgk",
        "outputId": "29bccce7-d885-46aa-feb1-71caf3867cb7"
      },
      "source": [
        "num1=int(input('enter the number'))\n",
        "num2=int(input(\"enter the number\"))\n",
        "sum=num1+num2\n",
        "print(\"the sum of number is\",sum)"
      ],
      "execution_count": 1,
      "outputs": [
        {
          "output_type": "stream",
          "name": "stdout",
          "text": [
            "enter the number7\n",
            "enter the number8\n",
            "the sum of number is 15\n"
          ]
        }
      ]
    }
  ]
}